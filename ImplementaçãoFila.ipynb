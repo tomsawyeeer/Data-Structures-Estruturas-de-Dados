{
  "nbformat": 4,
  "nbformat_minor": 0,
  "metadata": {
    "colab": {
      "provenance": []
    },
    "kernelspec": {
      "name": "python3",
      "display_name": "Python 3"
    },
    "language_info": {
      "name": "python"
    }
  },
  "cells": [
    {
      "cell_type": "code",
      "execution_count": null,
      "metadata": {
        "id": "0MuAhzkJZTGL"
      },
      "outputs": [],
      "source": [
        "# Implementação da estrutura de dados do tipo \"Fila\"\n",
        "\n",
        "class EmptyQueueException(Exception): # Criação de uma exceção personalizada que será levantada quando o usuário tentar realizar operações com uma fila vazia\n",
        "    # ===== Construtor =====\n",
        "    def __init__(self, error): # Recebe como argumento uma string contendo a mensagem de erro a ser exibida na tela\n",
        "      self.error = error\n",
        "\n",
        "    # ===== Visualização =====\n",
        "    def __str__(self):  # Método especial que retorna uma representação em string do objeto\n",
        "      return f\"{self.error}\"\n",
        "\n",
        "class Queue(): # Criação da classe \"Queue\" e seus métodos\n",
        "    # ===== Construtor =====\n",
        "    def __init__(self): # Não recebe argumentos de entrada, então é inicializada sempre vazia\n",
        "      self.n = 0 # Váriavel que armazena o número de elementos  da fila\n",
        "      self.items = [] # Lista que irá armazenar os elementos da fila\n",
        "\n",
        "    # ===== Métodos Básicos =====\n",
        "    def is_empty(self): # Método para verificar se fila está vazia\n",
        "      if self.n == 0: # Caso o número de elementos for 0, a fila não contém elementos\n",
        "        return True # Retorna \"Verdadeiro\"\n",
        "      else: # Caso contrário, a fila contém elementos\n",
        "        return False # Retorna \"Falso\"\n",
        "\n",
        "    def __len__(self): # Método especial que permite utilizar a built-in function \"len()\" no objeto\n",
        "      return self.n # A função \"len()\" irá retornar o número de elementos na fila. Armazenado na variável \"self.n\"\n",
        "\n",
        "    # ===== Inserção e Remoção =====\n",
        "    def enqueue(self, obj): # Método para adicionar um elemento no final da fila\n",
        "      self.items.append(obj) # Insere o elemento inserido como argumento no final da lista que contém os elementos da fila\n",
        "      self.n += 1 # Incrementa o número de elementos das fila em 1\n",
        "\n",
        "    def first(self): # Método para verificar o primeiro elemento da fila\n",
        "      if self.is_empty() == True: # Caso a fila esteja vazia, não será possível realizar a operação\n",
        "        raise EmptyQueueException(\"No elements found\") # Levanta a exceção personalizada do tipo \"EmptyQueueException\", indicando que a fila está vazia\n",
        "      else: # Caso haja elementos\n",
        "        return self.items[0] # Retorna o primeiro elemento da lista que contém os elementos da fila\n",
        "\n",
        "    def dequeue(self): # Método para retornar e remover o primeiro elemento da fila\n",
        "      if self.is_empty() == True: # Caso a fila esteja vazia, não será possível realizar a operação\n",
        "        raise EmptyQueueException(\"No elements found\") # Levanta a exceção personalizada do tipo \"EmptyQueueException\", indicando que a fila está vazia\n",
        "      else: # Caso a fila contenha elementos\n",
        "        self.n -= 1 # Decrementa o número de elementos da fila em 1\n",
        "        return self.items.pop(0) # Remove e retorna o primeiro elemento\n",
        "\n",
        "    # ===== Visualização =====\n",
        "    def __repr__(self): # Método especial para representar a pilha como uma string\n",
        "      return self.items\n",
        "\n",
        "    def __str__(self): # Método especial para converter a lista em string (usando __repr__)\n",
        "      return self.__repr__()"
      ]
    }
  ]
}