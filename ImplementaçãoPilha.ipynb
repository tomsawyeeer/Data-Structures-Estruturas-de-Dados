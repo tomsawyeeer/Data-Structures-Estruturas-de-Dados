{
  "nbformat": 4,
  "nbformat_minor": 0,
  "metadata": {
    "colab": {
      "provenance": []
    },
    "kernelspec": {
      "name": "python3",
      "display_name": "Python 3"
    },
    "language_info": {
      "name": "python"
    }
  },
  "cells": [
    {
      "cell_type": "code",
      "execution_count": 1,
      "metadata": {
        "id": "2RpLLkzrFbKJ"
      },
      "outputs": [],
      "source": [
        "# Implementação da estrutura de dados do tipo \"Pilha\"\n",
        "\n",
        "class Stack: # Criação da classe \"Stack\" e seus métodos\n",
        "\n",
        "    # ===== Construtor =====\n",
        "    def __init__(self): # Construtor da classe. Inicializa a pilha como vazia\n",
        "        self.items = [] # Define uma lista para armazenar os elementos da pilha\n",
        "        self.n = 0 # O número de elementos da pilha é inicializado em 0\n",
        "\n",
        "    # ===== Métodos Básicos =====\n",
        "    def is_empty(self): # Método par verificar se a pilha está vazia\n",
        "        if self.n == 0: # Caso o valor aramzenado na variável \"self.n\" seja 0, a pilha não possui elementos\n",
        "            return True # Retorna um valor booleano indicando que a lista está vazia\n",
        "        else:\n",
        "            return False\n",
        "\n",
        "    def __len__(self): # Método especial que permite utilizar a built-in function \"len()\" no objeto\n",
        "        return self.n # Retorna o número de elementos na pilha\n",
        "\n",
        "    # ===== Inserção e Remoção de Elementos =====\n",
        "    def push(self, obj): # Método para inserir um elemento na pilha\n",
        "        self.items.append(obj) # Insere o elemento no final da lista que contém os elementos da pilha\n",
        "        self.n += 1 # Incrementa em 1 o número de elementos da pilha\n",
        "\n",
        "    def pop(self): # Método para remover e retornar o elemento no topo da pilha\n",
        "        if self.is_empty() == True: # Caso a pilha esteja vazia, não será possível realizar a operação\n",
        "          raise IndexError(\"The stack is empty\") # Levanta uma exceção do tipo \"IndexError\"\n",
        "        else: # Caso a pilha contenha elementos\n",
        "          self.n -= 1 # Decrementa em 1 o número de elementos da pilha\n",
        "          return self.items.pop() # Utiliza o método \".pop()\" das listas. Caso não seja especificado nenhum índice, o último elemento (topo da pilha) da lista será removido\n",
        "\n",
        "    def top(self): # Método para retornar o topo da pilha (último elemento da lista) sem remover\n",
        "        if self.is_empty() == True: # Caso a pilha esteja vazia, não será possível realizar a operação\n",
        "          raise IndexError(\"The stack is empty\") # Levanta uma exceção do tipo \"IndexError\"\n",
        "        else: # Caso a pilha contenha elementos\n",
        "          return self.items[-1] # Retorna o último elemento da lista\n",
        "\n",
        "    # ===== Visualização =====\n",
        "    def __repr__(self): # Método especial para representar a pilha como uma string\n",
        "      return str(self.items)\n",
        "\n",
        "    def __str__(self): # Método especial para converter a lista em string (usando __repr__)\n",
        "      return self.__repr__()"
      ]
    }
  ]
}